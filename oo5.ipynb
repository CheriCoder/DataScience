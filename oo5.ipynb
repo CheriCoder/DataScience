{
 "cells": [
  {
   "cell_type": "code",
   "execution_count": 1,
   "id": "6e2d1f8f",
   "metadata": {},
   "outputs": [],
   "source": [
    "import numpy as np  \n",
    "from sklearn.datasets import load_iris \n",
    "from sklearn.model_selection import train_test_split \n",
    "from sklearn.svm import SVC \n",
    "from sklearn.metrics import accuracy_score"
   ]
  },
  {
   "cell_type": "code",
   "execution_count": 2,
   "id": "71a86791",
   "metadata": {},
   "outputs": [],
   "source": [
    "iris = load_iris() \n",
    "X = iris.data \n",
    "y = iris.target"
   ]
  },
  {
   "cell_type": "code",
   "execution_count": 3,
   "id": "8fc81846",
   "metadata": {},
   "outputs": [],
   "source": [
    "X_train, X_test, y_train, y_test = train_test_split(X, y, test_size=0.2, random_state=42)"
   ]
  },
  {
   "cell_type": "code",
   "execution_count": 4,
   "id": "c5231dcd",
   "metadata": {},
   "outputs": [],
   "source": [
    "kernels = ['rbf'] \n",
    "gammas = [0.5] \n",
    "Cs = [0.01, 1, 10] "
   ]
  },
  {
   "cell_type": "code",
   "execution_count": 5,
   "id": "df6ba87f",
   "metadata": {},
   "outputs": [],
   "source": [
    "best_accuracy = 0 \n",
    "best_parameters = None \n",
    "best_support_vectors = None"
   ]
  },
  {
   "cell_type": "code",
   "execution_count": 6,
   "id": "10485156",
   "metadata": {},
   "outputs": [],
   "source": [
    "for kernel in kernels: \n",
    "    for gamma in gammas: \n",
    "        for C in Cs: \n",
    "\n",
    "            svm_clf = SVC(kernel=kernel, gamma=gamma, C=C, decision_function_shape='ovr') \n",
    "            svm_clf.fit(X_train, y_train)"
   ]
  },
  {
   "cell_type": "code",
   "execution_count": 7,
   "id": "1b2ede35",
   "metadata": {},
   "outputs": [],
   "source": [
    "y_pred = svm_clf.predict(X_test)"
   ]
  },
  {
   "cell_type": "code",
   "execution_count": 8,
   "id": "ef2c4245",
   "metadata": {},
   "outputs": [],
   "source": [
    " accuracy = accuracy_score(y_test, y_pred)"
   ]
  },
  {
   "cell_type": "code",
   "execution_count": 9,
   "id": "61d5a356",
   "metadata": {},
   "outputs": [],
   "source": [
    "total_support_vectors = np.sum(svm_clf.n_support_) "
   ]
  },
  {
   "cell_type": "code",
   "execution_count": 10,
   "id": "81f87a04",
   "metadata": {},
   "outputs": [
    {
     "name": "stdout",
     "output_type": "stream",
     "text": [
      "Kernel: rbf, Gamma: 0.5, C: 10, Accuracy: 1.0, Total Support Vectors: 31\n"
     ]
    }
   ],
   "source": [
    "print(f\"Kernel: {kernel}, Gamma: {gamma}, C: {C}, Accuracy: {accuracy}, Total Support Vectors: {total_support_vectors}\") "
   ]
  },
  {
   "cell_type": "code",
   "execution_count": 11,
   "id": "14d6b0b5",
   "metadata": {},
   "outputs": [],
   "source": [
    "if accuracy > best_accuracy: \n",
    "    best_accuracy = accuracy \n",
    "    best_parameters = (kernel, gamma, C) \n",
    "    best_support_vectors = total_support_vectors "
   ]
  },
  {
   "cell_type": "code",
   "execution_count": 12,
   "id": "c06ccf78",
   "metadata": {},
   "outputs": [
    {
     "name": "stdout",
     "output_type": "stream",
     "text": [
      "\n",
      "Best Classification Accuracy: 1.0\n",
      "Best Hyperparameters: ('rbf', 0.5, 10)\n",
      "Total Support Vectors for Best Model: 31\n"
     ]
    }
   ],
   "source": [
    "print(\"\\nBest Classification Accuracy:\", best_accuracy) \n",
    "print(\"Best Hyperparameters:\", best_parameters) \n",
    "print(\"Total Support Vectors for Best Model:\", best_support_vectors)"
   ]
  }
 ],
 "metadata": {
  "kernelspec": {
   "display_name": "Python 3 (ipykernel)",
   "language": "python",
   "name": "python3"
  },
  "language_info": {
   "codemirror_mode": {
    "name": "ipython",
    "version": 3
   },
   "file_extension": ".py",
   "mimetype": "text/x-python",
   "name": "python",
   "nbconvert_exporter": "python",
   "pygments_lexer": "ipython3",
   "version": "3.10.9"
  }
 },
 "nbformat": 4,
 "nbformat_minor": 5
}
