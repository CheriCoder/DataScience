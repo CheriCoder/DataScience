{
 "cells": [
  {
   "cell_type": "code",
   "execution_count": 1,
   "id": "319dc370-4666-4bc2-9d70-ea7d80f22357",
   "metadata": {},
   "outputs": [],
   "source": [
    "import numpy as np\n",
    "from sklearn.datasets import load_iris\n",
    "from sklearn.model_selection import train_test_split\n",
    "from sklearn.svm import SVC\n",
    "from sklearn.metrics import accuracy_score"
   ]
  },
  {
   "cell_type": "code",
   "execution_count": 2,
   "id": "c85fb5c9-b31b-403a-8565-eef8ecf056d1",
   "metadata": {},
   "outputs": [],
   "source": [
    "# Load the Iris dataset\n",
    "iris = load_iris()\n",
    "X = iris.data\n",
    "y = iris.target"
   ]
  },
  {
   "cell_type": "code",
   "execution_count": 3,
   "id": "6ad42ab2-efad-420e-bac0-c1d7e7644de8",
   "metadata": {},
   "outputs": [],
   "source": [
    "# Split the dataset into training and testing sets\n",
    "X_train, X_test, y_train, y_test = train_test_split(X, y, test_size=0.2, random_state=42)"
   ]
  },
  {
   "cell_type": "code",
   "execution_count": 4,
   "id": "537ed9b1-d293-4b67-8cc5-c1951d4fd27a",
   "metadata": {},
   "outputs": [],
   "source": [
    "# Define the hyperparameters to try\n",
    "kernels = ['rbf']\n",
    "gammas = [0.5]\n",
    "Cs = [0.01, 1, 10]\n",
    "best_accuracy = 0\n",
    "best_parameters = None\n",
    "best_support_vectors = None"
   ]
  },
  {
   "cell_type": "code",
   "execution_count": 5,
   "id": "4acbc6d0-a8c3-4b5e-b0e9-7479c2ea7504",
   "metadata": {},
   "outputs": [],
   "source": [
    "# Iterate over different combinations of hyperparameters\n",
    "for kernel in kernels:\n",
    "    for gamma in gammas:\n",
    "        for C in Cs:\n",
    "            # Train the SVM classifier\n",
    "            svm_clf = SVC(kernel=kernel, gamma=gamma, C=C, decision_function_shape='ovr')\n",
    "            svm_clf.fit(X_train, y_train)"
   ]
  },
  {
   "cell_type": "code",
   "execution_count": 6,
   "id": "7e84407e-5b5e-484f-be62-3f338469dc58",
   "metadata": {},
   "outputs": [],
   "source": [
    "# Predict on the test set\n",
    "y_pred = svm_clf.predict(X_test)"
   ]
  },
  {
   "cell_type": "code",
   "execution_count": 7,
   "id": "8f113828-dbda-4e95-ace5-6dd102cbc36c",
   "metadata": {},
   "outputs": [],
   "source": [
    "# Calculate classification accuracy\n",
    "accuracy = accuracy_score(y_test, y_pred)"
   ]
  },
  {
   "cell_type": "code",
   "execution_count": 8,
   "id": "1f7a7334-35e8-487d-a239-85117dd51e92",
   "metadata": {},
   "outputs": [],
   "source": [
    "# Get the total number of support vectors\n",
    "total_support_vectors = np.sum(svm_clf.n_support_)"
   ]
  },
  {
   "cell_type": "code",
   "execution_count": 9,
   "id": "03410481-80ef-4cd6-a33c-fd0f22afdc52",
   "metadata": {},
   "outputs": [
    {
     "name": "stdout",
     "output_type": "stream",
     "text": [
      " Kernel: rbf, Gamma: 0.5, C: 10, Accuracy: 1.0, Total Support Vectors: 31\n"
     ]
    }
   ],
   "source": [
    "print(f\" Kernel: {kernel}, Gamma: {gamma}, C: {C}, Accuracy: {accuracy}, Total Support Vectors: {total_support_vectors}\")"
   ]
  },
  {
   "cell_type": "code",
   "execution_count": 10,
   "id": "922c8baa-3651-46c3-8f9c-ef5371a0ab28",
   "metadata": {},
   "outputs": [],
   "source": [
    "# Check if this model has the best accuracy so far\n",
    "if accuracy > best_accuracy:\n",
    "    best_accuracy = accuracy\n",
    "    best_parameters = (kernel, gamma, C)\n",
    "    best_support_vectors = total_support_vectors"
   ]
  },
  {
   "cell_type": "code",
   "execution_count": 11,
   "id": "860c6678-b7fc-4c9a-9ddf-a36d8741ea34",
   "metadata": {},
   "outputs": [
    {
     "name": "stdout",
     "output_type": "stream",
     "text": [
      "\n",
      "Best Classification Accuracy: 1.0\n",
      "Best Hyperparameters: ('rbf', 0.5, 10)\n",
      "Total Support Vectors for Best Model: 31\n"
     ]
    }
   ],
   "source": [
    "print(\"\\nBest Classification Accuracy:\", best_accuracy)\n",
    "print(\"Best Hyperparameters:\", best_parameters)\n",
    "print(\"Total Support Vectors for Best Model:\", best_support_vectors)"
   ]
  }
 ],
 "metadata": {
  "kernelspec": {
   "display_name": "Python 3 (ipykernel)",
   "language": "python",
   "name": "python3"
  },
  "language_info": {
   "codemirror_mode": {
    "name": "ipython",
    "version": 3
   },
   "file_extension": ".py",
   "mimetype": "text/x-python",
   "name": "python",
   "nbconvert_exporter": "python",
   "pygments_lexer": "ipython3",
   "version": "3.12.3"
  }
 },
 "nbformat": 4,
 "nbformat_minor": 5
}
